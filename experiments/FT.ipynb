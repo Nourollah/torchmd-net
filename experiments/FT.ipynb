{
 "cells": [
  {
   "cell_type": "code",
   "execution_count": 2,
   "metadata": {},
   "outputs": [],
   "source": [
    "import sys\n",
    "import os\n",
    "import yaml\n",
    "import random\n",
    "import argparse\n",
    "import logging\n",
    "import torch\n",
    "import lightning.pytorch as pl\n",
    "from lightning.pytorch.loggers import WandbLogger, CSVLogger, TensorBoardLogger\n",
    "from lightning.pytorch.callbacks import (\n",
    "    ModelCheckpoint,\n",
    "    EarlyStopping,\n",
    ")\n",
    "from torchmdnet.module import LNNP\n",
    "from torchmdnet import datasets, priors, models\n",
    "from torchmdnet.data import DataModule\n",
    "from torchmdnet.loss import loss_class_mapping\n",
    "from torchmdnet.models import output_modules\n",
    "from torchmdnet.models.model import create_prior_models\n",
    "from torchmdnet.models.utils import rbf_class_mapping, act_class_mapping, dtype_mapping\n",
    "from torchmdnet.utils import LoadFromFile, LoadFromCheckpoint, save_argparse, number\n",
    "from lightning_utilities.core.rank_zero import rank_zero_warn\n",
    "from torch.utils.data import ConcatDataset, Subset, SubsetRandomSampler, random_split"
   ]
  },
  {
   "cell_type": "code",
   "execution_count": 4,
   "metadata": {},
   "outputs": [
    {
     "name": "stdout",
     "output_type": "stream",
     "text": [
      "silu\n"
     ]
    }
   ],
   "source": [
    "args = {\n",
    "    \"activation\": \"silu\",\n",
    "    \"aggr\": \"add\",\n",
    "    \"atom_filter\": -1,\n",
    "    \"attn_activation\": \"silu\",\n",
    "    \"batch_size\": 1,\n",
    "    \"coord_files\": None,\n",
    "    \"cutoff_lower\": 0.0,\n",
    "    \"cutoff_upper\": 5.0,\n",
    "    \"dataset\": \"Butene\",\n",
    "    \"dataset_arg\": {\n",
    "        \"root\": \"/home/amir/Projects/Butene_MD\",\n",
    "        \"start\": 1000,\n",
    "        \"end\": 3000,\n",
    "    },\n",
    "    \"dataset_root\": \"~/data\",\n",
    "    \"derivative\": False,\n",
    "    \"distance_influence\": \"both\",\n",
    "    \"early_stopping_patience\": 300,\n",
    "    \"ema_alpha_neg_dy\": 1.0,\n",
    "    \"ema_alpha_y\": 0.05,\n",
    "    \"embed_files\": None,\n",
    "    \"embedding_dimension\": 128,\n",
    "    \"energy_files\": None,\n",
    "    \"y_weight\": 0.2,\n",
    "    \"force_files\": None,\n",
    "    \"neg_dy_weight\": 0.8,\n",
    "    \"load_model\": None,\n",
    "    \"log_dir\": \"logs/\",\n",
    "    \"lr\": 0.001,\n",
    "    \"lr_factor\": 0.8,\n",
    "    \"lr_min\": 1.0e-07,\n",
    "    \"lr_patience\": 30,\n",
    "    \"lr_warmup_steps\": 1000,\n",
    "    \"max_num_neighbors\": 32,\n",
    "    \"max_z\": 100,\n",
    "    \"model\": \"equivariant-transformer\",\n",
    "    \"neighbor_embedding\": True,\n",
    "    \"ngpus\": -1,\n",
    "    \"num_epochs\": 3000,\n",
    "    \"num_heads\": 8,\n",
    "    \"num_layers\": 6,\n",
    "    \"num_nodes\": 1,\n",
    "    \"num_rbf\": 32,\n",
    "    \"num_workers\": 6,\n",
    "    \"output_model\": \"Scalar\",\n",
    "    \"precision\": 32,\n",
    "    \"prior_model\": None,\n",
    "    \"rbf_type\": \"expnorm\",\n",
    "    \"redirect\": False,\n",
    "    \"reduce_op\": \"add\",\n",
    "    \"save_interval\": 10,\n",
    "    \"splits\": None,\n",
    "    \"standardize\": True,\n",
    "    \"test_interval\": 5,\n",
    "    \"test_size\": 1299,\n",
    "    \"train_size\": 1,\n",
    "    \"trainable_rbf\": False,\n",
    "    \"val_size\": 1,\n",
    "    \"weight_decay\": 0.0,\n",
    "    \"box_vecs\": None,\n",
    "    \"charge\": False,\n",
    "    \"spin\": False,\n",
    "    \"vector_cutoff\": True,\n",
    "    \"wandb_use\": True,\n",
    "    \"wandb_project\": \"MD17-Mix_No_Ethanol\",\n",
    "    \"tensorboard_use\": True,\n",
    "    \"wandb_name\": \"ET-Transformer-Mix_No_Ethanol\",\n",
    "    \"pairwise_thread\": True,\n",
    "    \"triples_thread\": True,\n",
    "    \"return_vecs\": True,\n",
    "    \"loop\": True,\n",
    "    \"base_cutoff\": 5.0,\n",
    "    \"outer_cutoff\": 5.0,\n",
    "    \"gradient_clipping\": 0.0,\n",
    "    \"remove_ref_energy\": False,\n",
    "    \"train_loss\": \"mse_loss\",\n",
    "    \"train_loss_arg\": None,\n",
    "    \"seed\": 1,\n",
    "    \"dataset_preload_limit\": 1024,\n",
    "    \"lr_metric\": \"val\",\n",
    "    \"box\": None,\n",
    "    \"long_edge_index\": True,\n",
    "    \"check_errors\": True,\n",
    "    \"strategy\": \"brute\",\n",
    "    \"include_transpose\": True,\n",
    "    \"resize_to_fit\": True,\n",
    "    \"output_mlp_num_layers\": 0,\n",
    "    \"equivariance_invariance_group\": \"O(3)\",\n",
    "    \"static_shapes\": False,\n",
    "    \"wandb_resume_from_id\": None,\n",
    "    \"inference_batch_size\": 1,\n",
    "}\n",
    "\n",
    "args = argparse.Namespace(**args)\n",
    "\n",
    "# Now you can access the arguments as attributes of the args object\n",
    "print(args.activation)"
   ]
  },
  {
   "cell_type": "code",
   "execution_count": 5,
   "metadata": {},
   "outputs": [
    {
     "name": "stderr",
     "output_type": "stream",
     "text": [
      "/home/amir/Projects/torchmd-net/torchmdnet/utils.py:221: UserWarning: 700 samples were excluded from the dataset\n",
      "  rank_zero_warn(f\"{dset_len - total} samples were excluded from the dataset\")\n"
     ]
    },
    {
     "data": {
      "text/html": [
       "<pre style=\"white-space:pre;overflow-x:auto;line-height:normal;font-family:Menlo,'DejaVu Sans Mono',consolas,'Courier New',monospace\">train <span style=\"color: #008080; text-decoration-color: #008080; font-weight: bold\">1</span>, val <span style=\"color: #008080; text-decoration-color: #008080; font-weight: bold\">1</span>, test <span style=\"color: #008080; text-decoration-color: #008080; font-weight: bold\">1299</span>\n",
       "</pre>\n"
      ],
      "text/plain": [
       "train \u001b[1;36m1\u001b[0m, val \u001b[1;36m1\u001b[0m, test \u001b[1;36m1299\u001b[0m\n"
      ]
     },
     "metadata": {},
     "output_type": "display_data"
    },
    {
     "name": "stderr",
     "output_type": "stream",
     "text": [
      "computing mean and std: 100%|██████████| 1/1 [00:00<00:00,  3.90it/s]\n",
      "/home/amir/Projects/torchmd-net/torchmdnet/data.py:355: UserWarning: std(): degrees of freedom is <= 0. Correction should be strictly less than the reduction factor (input numel divided by output numel). (Triggered internally at /home/conda/feedstock_root/build_artifacts/libtorch_1730840128166/work/aten/src/ATen/native/ReduceOps.cpp:1823.)\n",
      "  self._std = ys.std(dim=0)\n"
     ]
    }
   ],
   "source": [
    "data = DataModule(args)\n",
    "data.prepare_data()\n",
    "data.setup(\"fit\")"
   ]
  },
  {
   "cell_type": "code",
   "execution_count": 6,
   "metadata": {},
   "outputs": [],
   "source": [
    "prior_models = create_prior_models(vars(args), data.dataset)\n",
    "args.prior_args = [p.get_init_args() for p in prior_models]\n",
    "# initialize lightning module\n",
    "model = LNNP(args, prior_model=prior_models, mean=data.mean, std=data.std)"
   ]
  },
  {
   "cell_type": "code",
   "execution_count": 7,
   "metadata": {},
   "outputs": [
    {
     "name": "stderr",
     "output_type": "stream",
     "text": [
      "GPU available: True (cuda), used: False\n",
      "TPU available: False, using: 0 TPU cores\n",
      "HPU available: False, using: 0 HPUs\n",
      "/home/amir/.conda/envs/venv/lib/python3.10/site-packages/lightning/pytorch/trainer/setup.py:177: GPU available but not used. You can set it by doing `Trainer(accelerator='gpu')`.\n"
     ]
    }
   ],
   "source": [
    "trainer = pl.Trainer(\n",
    "    strategy=\"auto\",\n",
    "    max_epochs=args.num_epochs,\n",
    "    accelerator=\"cpu\",\n",
    "    # devices=\"cpu\",\n",
    "    num_nodes=args.num_nodes,\n",
    "    default_root_dir=args.log_dir,\n",
    "    # callbacks=[early_stopping, checkpoint_callback],\n",
    "    # logger=_logger,\n",
    "    precision=args.precision,\n",
    "    gradient_clip_val=args.gradient_clipping,\n",
    "    inference_mode=False,\n",
    "    # Test-during-training requires reloading the dataloaders every epoch\n",
    "    reload_dataloaders_every_n_epochs=1 if args.test_interval > 0 else 0,\n",
    ")"
   ]
  },
  {
   "cell_type": "code",
   "execution_count": 8,
   "metadata": {},
   "outputs": [],
   "source": [
    "def make_fft_plot(timeseries, ax, label):\n",
    "    freq = np.fft.fftfreq(timeseries.shape[-1])\n",
    "    spectrum  = np.fft.fft(timeseries)\n",
    "    ax.plot(freq, spectrum.real, label=f'real + {label}')\n",
    "    ax.plot(freq, spectrum.imag, label=f'imag + {label}')"
   ]
  },
  {
   "cell_type": "code",
   "execution_count": 12,
   "metadata": {},
   "outputs": [],
   "source": [
    "\n",
    "def plot_fourier(ax, outputs_list):\n",
    "    ax.plot(np.arange(outputs_list.shape[-1]), np.fft.fft(np.array(outputs_list)).imag)\n",
    "    ax.plot(np.arange(outputs_list.shape[-1]), np.fft.fft(np.array(outputs_list)).real)"
   ]
  },
  {
   "cell_type": "code",
   "execution_count": 9,
   "metadata": {},
   "outputs": [],
   "source": [
    "energies = [float(data.dataset[i][\"y\"]) for i in range(len(data.dataset))]"
   ]
  },
  {
   "cell_type": "code",
   "execution_count": 14,
   "metadata": {},
   "outputs": [
    {
     "data": {
      "image/png": "[encoded data removed]",
      "text/plain": [
       "<Figure size 640x480 with 1 Axes>"
      ]
     },
     "metadata": {},
     "output_type": "display_data"
    }
   ],
   "source": [
    "import matplotlib.pyplot as plt\n",
    "import numpy as np\n",
    "fig, ax = plt.subplots()\n",
    "\n",
    "plot_fourier(ax, np.array(energies)- np.array(energies).mean())"
   ]
  }
 ],
 "metadata": {
  "kernelspec": {
   "display_name": "venv",
   "language": "python",
   "name": "python3"
  },
  "language_info": {
   "codemirror_mode": {
    "name": "ipython",
    "version": 3
   },
   "file_extension": ".py",
   "mimetype": "text/x-python",
   "name": "python",
   "nbconvert_exporter": "python",
   "pygments_lexer": "ipython3",
   "version": "3.10.13"
  }
 },
 "nbformat": 4,
 "nbformat_minor": 2
}
